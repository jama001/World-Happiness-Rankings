{
 "cells": [
  {
   "cell_type": "code",
   "execution_count": 1,
   "metadata": {},
   "outputs": [],
   "source": [
    "import pandas as pd\n",
    "import numpy as np"
   ]
  },
  {
   "cell_type": "code",
   "execution_count": 2,
   "metadata": {},
   "outputs": [],
   "source": [
    "data = pd.read_csv('2020.csv')\n",
    "\n",
    "data = data[['Country name','Ladder score','Standard error of ladder score']]"
   ]
  },
  {
   "cell_type": "code",
   "execution_count": 3,
   "metadata": {},
   "outputs": [],
   "source": [
    "data['Ladder score rank'] = data['Ladder score'].rank(ascending = False)\n",
    "for i in range(1000):\n",
    "    data[str(i+1)] = np.random.normal(data['Ladder score'],data['Standard error of ladder score'])\n",
    "    data[str(i+1)] = data[str(i+1)].rank(ascending = False)   \n",
    "data['max'] = data.drop(['Ladder score','Standard error of ladder score','Ladder score rank'], axis = 1).max(axis = 1)\n",
    "data['min'] = data.drop(['Ladder score','Standard error of ladder score','Ladder score rank'], axis = 1).min(axis = 1)\n",
    "data['span'] = data['max'] - data['min']\n",
    "data = data[['Country name','Ladder score rank','Ladder score','min','max','span']]\n",
    "data.to_excel('rank.xlsx')"
   ]
  }
 ],
 "metadata": {
  "kernelspec": {
   "display_name": "Python 3",
   "language": "python",
   "name": "python3"
  },
  "language_info": {
   "codemirror_mode": {
    "name": "ipython",
    "version": 3
   },
   "file_extension": ".py",
   "mimetype": "text/x-python",
   "name": "python",
   "nbconvert_exporter": "python",
   "pygments_lexer": "ipython3",
   "version": "3.7.3"
  }
 },
 "nbformat": 4,
 "nbformat_minor": 2
}
